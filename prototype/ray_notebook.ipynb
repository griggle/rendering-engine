{
 "cells": [
  {
   "cell_type": "code",
   "execution_count": 43,
   "id": "54085f95-61e0-4e0e-82c7-78413eca92dd",
   "metadata": {},
   "outputs": [],
   "source": [
    "import numpy as np\n",
    "import matplotlib.pyplot as plt"
   ]
  },
  {
   "cell_type": "code",
   "execution_count": 44,
   "id": "06648ecd-bef5-4685-966b-ef09e761b463",
   "metadata": {},
   "outputs": [],
   "source": [
    "def normalize(vector):\n",
    "    return vector / np.linalg.norm(vector)"
   ]
  },
  {
   "cell_type": "code",
   "execution_count": 45,
   "id": "99402f99-2d7f-464f-9927-f6ac2690dff1",
   "metadata": {},
   "outputs": [],
   "source": [
    "def reflected(vector, axis):\n",
    "    return vector - 2 * np.dot(vector, axis) * axis"
   ]
  },
  {
   "cell_type": "code",
   "execution_count": 46,
   "id": "e504cc6a-352c-47cc-b9d9-a10897ff6725",
   "metadata": {},
   "outputs": [],
   "source": [
    "def sphere_intersect(center, radius, ray_origin, ray_direction):\n",
    "    b = 2 * np.dot(ray_direction, ray_origin - center)\n",
    "    c = np.linalg.norm(ray_origin - center) ** 2 - radius ** 2\n",
    "    delta = b ** 2 - 4 * c\n",
    "    if delta > 0:\n",
    "        t1 = (-b + np.sqrt(delta)) / 2\n",
    "        t2 = (-b - np.sqrt(delta)) / 2\n",
    "        if t1 > 0 and t2 > 0:\n",
    "            return min(t1, t2)\n",
    "    return None"
   ]
  },
  {
   "cell_type": "code",
   "execution_count": 47,
   "id": "b3bff670-7ab0-43c0-a7bf-9478fee7fa01",
   "metadata": {},
   "outputs": [],
   "source": [
    "def nearest_intersected_object(objects, ray_origin, ray_direction):\n",
    "    distances = [sphere_intersect(obj['center'], obj['radius'], ray_origin, ray_direction) for obj in objects]\n",
    "    nearest_object = None\n",
    "    min_distance = np.inf\n",
    "    for index, distance in enumerate(distances):\n",
    "        if distance and distance < min_distance:\n",
    "            min_distance = distance\n",
    "            nearest_object = objects[index]\n",
    "    return nearest_object, min_distance"
   ]
  },
  {
   "cell_type": "code",
   "execution_count": 48,
   "id": "ba75f8e6-f7d7-4413-be9a-567d99537857",
   "metadata": {},
   "outputs": [],
   "source": [
    "width = 300\n",
    "height = 200\n",
    "\n",
    "max_depth = 10\n",
    "\n",
    "camera = np.array([0, 0, 1])\n",
    "ratio = float(width) / height\n",
    "screen = (-1, 1 / ratio, 1, -1 / ratio) # left, top, right, bottom"
   ]
  },
  {
   "cell_type": "code",
   "execution_count": 49,
   "id": "04086435-2fdc-4fef-914e-f0af40287da0",
   "metadata": {},
   "outputs": [],
   "source": [
    "light = { 'position': np.array([5, 5, 5]), 'ambient': np.array([1, 1, 1]), 'diffuse': np.array([1, 1, 1]), 'specular': np.array([1, 1, 1]) }"
   ]
  },
  {
   "cell_type": "code",
   "execution_count": 50,
   "id": "ee8706bf-308b-401f-8ad5-cfd6c443d28d",
   "metadata": {},
   "outputs": [],
   "source": [
    "objects = [\n",
    "    { 'center': np.array([-0.2, 0, -1]), 'radius': 0.7, 'ambient': np.array([0.1, 0, 0]), 'diffuse': np.array([0.7, 0, 0]), 'specular': np.array([1, 1, 1]), 'shininess': 100, 'reflection': 0.5 },\n",
    "    { 'center': np.array([0.1, -0.3, 0]), 'radius': 0.1, 'ambient': np.array([0.1, 0, 0.1]), 'diffuse': np.array([0.7, 0, 0.7]), 'specular': np.array([1, 1, 1]), 'shininess': 100, 'reflection': 0.5 },\n",
    "    { 'center': np.array([-0.3, 0, 0]), 'radius': 0.15, 'ambient': np.array([0, 0.1, 0]), 'diffuse': np.array([0, 0.6, 0]), 'specular': np.array([1, 1, 1]), 'shininess': 100, 'reflection': 0.5 },\n",
    "    { 'center': np.array([0, -9000, 0]), 'radius': 9000 - 0.7, 'ambient': np.array([0.1, 0.1, 0.1]), 'diffuse': np.array([0.6, 0.6, 0.6]), 'specular': np.array([1, 1, 1]), 'shininess': 100, 'reflection': 0.5 }\n",
    "]"
   ]
  },
  {
   "cell_type": "code",
   "execution_count": 52,
   "id": "6a87e1ca-eae3-4b80-b649-622cfa286683",
   "metadata": {},
   "outputs": [
    {
     "name": "stdout",
     "output_type": "stream",
     "text": [
      "200/200"
     ]
    },
    {
     "data": {
      "image/png": "[encoded data removed]",
      "text/plain": [
       "<Figure size 432x288 with 1 Axes>"
      ]
     },
     "metadata": {
      "needs_background": "light"
     },
     "output_type": "display_data"
    }
   ],
   "source": [
    "image = np.zeros((height, width, 3))\n",
    "for i, y in enumerate(np.linspace(screen[1], screen[3], height)):\n",
    "    for j, x in enumerate(np.linspace(screen[0], screen[2], width)):\n",
    "        # screen is on origin\n",
    "        pixel = np.array([x, y, 0])\n",
    "        origin = camera\n",
    "        direction = normalize(pixel - origin)\n",
    "\n",
    "        color = np.zeros((3))\n",
    "        reflection = 1\n",
    "\n",
    "        for k in range(max_depth):\n",
    "            # check for intersections\n",
    "            nearest_object, min_distance = nearest_intersected_object(objects, origin, direction)\n",
    "            if nearest_object is None:\n",
    "                break\n",
    "\n",
    "            intersection = origin + min_distance * direction\n",
    "            normal_to_surface = normalize(intersection - nearest_object['center'])\n",
    "            shifted_point = intersection + 1e-5 * normal_to_surface\n",
    "            intersection_to_light = normalize(light['position'] - shifted_point)\n",
    "\n",
    "            _, min_distance = nearest_intersected_object(objects, shifted_point, intersection_to_light)\n",
    "            intersection_to_light_distance = np.linalg.norm(light['position'] - intersection)\n",
    "            is_shadowed = min_distance < intersection_to_light_distance\n",
    "\n",
    "            if is_shadowed:\n",
    "                break\n",
    "\n",
    "            illumination = np.zeros((3))\n",
    "\n",
    "            # ambiant\n",
    "            illumination += nearest_object['ambient'] * light['ambient']\n",
    "\n",
    "            # diffuse\n",
    "            illumination += nearest_object['diffuse'] * light['diffuse'] * np.dot(intersection_to_light, normal_to_surface)\n",
    "\n",
    "            # specular\n",
    "            intersection_to_camera = normalize(camera - intersection)\n",
    "            H = normalize(intersection_to_light + intersection_to_camera)\n",
    "            illumination += nearest_object['specular'] * light['specular'] * np.dot(normal_to_surface, H) ** (nearest_object['shininess'] / 4)\n",
    "\n",
    "            # reflection\n",
    "            color += reflection * illumination\n",
    "            reflection *= nearest_object['reflection']\n",
    "\n",
    "            origin = shifted_point\n",
    "            direction = reflected(direction, normal_to_surface)\n",
    "\n",
    "        image[i, j] = np.clip(color, 0, 1)\n",
    "    print(\"\\r%d/%d\" % (i + 1, height), end=\"\")\n",
    "\n",
    "plt.imsave(\"image.png\", image)\n",
    "plt.imshow(image)\n",
    "plt.axis(\"off\")\n",
    "plt.show()"
   ]
  }
 ],
 "metadata": {
  "kernelspec": {
   "display_name": "Python 3 (ipykernel)",
   "language": "python",
   "name": "python3"
  },
  "language_info": {
   "codemirror_mode": {
    "name": "ipython",
    "version": 3
   },
   "file_extension": ".py",
   "mimetype": "text/x-python",
   "name": "python",
   "nbconvert_exporter": "python",
   "pygments_lexer": "ipython3",
   "version": "3.8.10"
  }
 },
 "nbformat": 4,
 "nbformat_minor": 5
}
